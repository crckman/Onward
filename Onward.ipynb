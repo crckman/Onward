{
 "cells": [
  {
   "attachments": {},
   "cell_type": "markdown",
   "metadata": {},
   "source": [
    "### Annotation for [Spotify Playlist: Onward (Higher than high)](https://open.spotify.com/playlist/3JHhL3MgLCvADVIomkiAqX?si=14e44e2bd14a46e7)\n",
    "\n",
    "This is an assortment of a few of my favorite songs.\n",
    "Some may be familiar, others new, but I wouldn't consider any obscure.\n",
    "Being ten (10) tracks over a 55 minute playlist, doing the math you'll realize the songs tend to be on the longer side.\n",
    "\n",
    "For me, great rock tends to be (hopefully) gratuitous, sometimes cryptic, often empowering, always a crescendo.  I hope you enjoy.\n",
    "\n",
    "Note: The playlist subtitle `\"Higher than high\"` is drawn from the fifth (5) track, *Twilight Galaxy*."
   ]
  },
  {
   "attachments": {},
   "cell_type": "markdown",
   "metadata": {},
   "source": [
    "|Track|Song|Artist|Album|Year|\n",
    "|-|-|-|-|-|\n",
    "|1|The French Open|Foals|Antidotes|2008|\n",
    "\n",
    "This is the opening track on the *Antidotes* album; \n",
    "begins with the tuning of *French* horns,\n",
    "and is based on the tennis player *Andy Roddick*, who had the fastest serve in the world but (at the time) had't won anything (Tennis:French Open).  Yes, its too clever, by two...but that's *Foals*.\n",
    "\n",
    "Also, this is one of those annoying songs that incudes some *French* (not much, but given the song consists of only twelve distinct words, its hard to ignore).  Anyway, the phrase is `\"Un peu d'air sur la terre\"` and can be loosely translated to mean `\"a puff of dust\"` in reference to the effect of a tennis ball striking the ground of a clay court.\n",
    "\n",
    "This songs starts up with a deceptively simple structure but is entirely infectious with a nice touch of dissonance.\n",
    "\n",
    "*Foals* is a band I've very much enjoyed seeing live over the past decade so when I realized they weren't on the playlist...well, it just didn't seem right.  In terms of any potential deeper meaning, this could be seen as a self-critique."
   ]
  },
  {
   "attachments": {},
   "cell_type": "markdown",
   "metadata": {},
   "source": [
    "|Track|Song|Artist|Album|Year|\n",
    "|-|-|-|-|-|\n",
    "|2|Intro/Sweet Jane|Lou Reed|Rock 'n' Roll Animal (Live)|1973|\n",
    "\n",
    "The legendary *Lou Reed* delivering a historic rendition of the classic he wrote with *The Velvet Underground* with a band that would later form the core of *Alice Cooper's Welcome to My Nightmare* production.\n",
    "\n",
    "The applause at 3:29 is Lou taking the stage.\n",
    "\n",
    "If I were to select the playlist subtitle from this track, it'd be: `\"Anyone who ever played a part\"`."
   ]
  },
  {
   "attachments": {},
   "cell_type": "markdown",
   "metadata": {},
   "source": [
    "|Track|Song|Artist|Album|Year|\n",
    "|-|-|-|-|-|\n",
    "|3|Wait|M83|Hurry Up, We're Dreaming|2011|\n",
    "\n",
    "*M83* (named after the galaxy) is one of my all time favorite bands and one that I'm privileged to be able to see perform live this October.\n",
    "\n",
    "The four lines that make the two verses of *Wait* comprise one of the most beautful poems I've ever heard.  The rest of the song just just two words, repeated.  If I could only find a way to swim through the drum rolls at the end...\n",
    "\n",
    "If I were to select the playlist subtitle from this track, it'd of course be: `\"No time\"`."
   ]
  },
  {
   "attachments": {},
   "cell_type": "markdown",
   "metadata": {},
   "source": [
    "|Track|Song|Artist|Album|Year|\n",
    "|-|-|-|-|-|\n",
    "|4|Cave|Muse|Showbiz|1999|\n",
    "\n",
    "I've lost track of what *Muse* has been doing, but I find myself regularly returning to some of the early stuff.\n",
    "\n",
    "*Cave* has always been one of my favorite songs and 3:34 marks the start my phone's ring tone since 2010."
   ]
  },
  {
   "attachments": {},
   "cell_type": "markdown",
   "metadata": {},
   "source": [
    "|Track|Song|Artist|Album|Year|\n",
    "|-|-|-|-|-|\n",
    "|5|Twighlight Galaxy|Metric|Fantasies|2009|\n",
    "\n",
    "*Fantasies* is one of my **very** favorite albums of the 2000's.\n",
    "\n",
    "*Twighlight Galaxy* isn't one of those songs where the words aren't clear, there isn't much to add.\n",
    "\n",
    "The playlist subtitle `\"Higher than high\"` is drawn from this track."
   ]
  },
  {
   "attachments": {},
   "cell_type": "markdown",
   "metadata": {},
   "source": [
    "|Track|Song|Artist|Album|Year|\n",
    "|-|-|-|-|-|\n",
    "|6|Showbiz - Live from the Zenith|Muse|Hullabaloo Soundtrack|2002|\n",
    "\n",
    "*Muse* putting on a rock freakout for the lucky people of Paris.  Video exists.  \n",
    "\n",
    "Gratuitious feedback/prologue starting at 4:07. "
   ]
  },
  {
   "attachments": {},
   "cell_type": "markdown",
   "metadata": {},
   "source": [
    "|Track|Song|Artist|Album|Year|\n",
    "|-|-|-|-|-|\n",
    "|7|Life on Mars?|David Bowie|Hunky Dory|1973|\n",
    "\n",
    "*Bowie* asking the quite well framed question: `\"Is there life on Mars?\"`...well who else?"
   ]
  },
  {
   "attachments": {},
   "cell_type": "markdown",
   "metadata": {},
   "source": [
    "|Track|Song|Artist|Album|Year|\n",
    "|-|-|-|-|-|\n",
    "|8|Gone|M83|Dead Cities, Red Seas and Lost Ghosts|2003|\n",
    "\n",
    "You may, or may not, experience this as a single note held for the entire song (~6 minutes).  \n",
    "\n",
    "In anycase, no lyrics.\n",
    "\n",
    "White noise at 3:03 always launches me."
   ]
  },
  {
   "attachments": {},
   "cell_type": "markdown",
   "metadata": {},
   "source": [
    "|Track|Song|Artist|Album|Year|\n",
    "|-|-|-|-|-|\n",
    "|9|Voodoo Chile (Slight Return)|Jimi Hendrix|Freedom: Antlanta Pop Festival (Live)|1970|\n",
    "\n",
    "This is Seattle...and well...*Jimi*...if you haven't heard much live Jimi this is an amazing show with video.\n",
    "\n",
    "There's an incredible local player named *Ayron Jones* who performs a mean *Voodoo Chile*, if you ever get the chance see him play...\n",
    "\n",
    "If I were to select the playlist subtitle from this track, it'd be: `\"Don't be late\"`."
   ]
  },
  {
   "attachments": {},
   "cell_type": "markdown",
   "metadata": {},
   "source": [
    "|Track|Song|Artist|Album|Year|\n",
    "|-|-|-|-|-|\n",
    "|10|Stone Free|Jimi Hendrix|Freedom: Antlanta Pop Festival (Live)|1970|\n",
    "\n",
    "This track just happens to follow *Voodoo Chile* but its always been one of my favorites as a bit of a straight-up blues ripper...and certainly gratuitous."
   ]
  }
 ],
 "metadata": {
  "anaconda-cloud": {},
  "kernelspec": {
   "display_name": "Python 3",
   "language": "python",
   "name": "python3"
  },
  "language_info": {
   "codemirror_mode": {
    "name": "ipython",
    "version": 3
   },
   "file_extension": ".py",
   "mimetype": "text/x-python",
   "name": "python",
   "nbconvert_exporter": "python",
   "pygments_lexer": "ipython3",
   "version": "3.5.1"
  }
 },
 "nbformat": 4,
 "nbformat_minor": 0
}
