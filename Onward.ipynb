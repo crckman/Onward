{
 "cells": [
  {
   "attachments": {},
   "cell_type": "markdown",
   "metadata": {},
   "source": [
    "### Annotation for [Spotify Playlist: Onward (Higher than high)](https://open.spotify.com/playlist/3JHhL3MgLCvADVIomkiAqX?si=14e44e2bd14a46e7)\n",
    "\n",
    "This is an assortment of a few of my favorite songs.\n",
    "Some may be familiar, others new, but I wouldn't consider any obscure.\n",
    "Being ten (10) tracks over a 55 minute playlist, doing the math you'll realize the songs tend to be on the longer side.\n",
    "\n",
    "For me, great rock tends to be (hopefully) a bit gratuitous, sometimes cryptic, and often empowering.  I hope you enjoy.\n",
    "\n",
    "Note: The subtitle `\"Higher than high\"` is drawn from the fifth (5) track, *Twilight Galaxy*."
   ]
  },
  {
   "attachments": {},
   "cell_type": "markdown",
   "metadata": {},
   "source": [
    "|Track|Song|Artist|Album|Year|\n",
    "|-|-|-|-|-|\n",
    "|1|The French Open|Foals|Antidotes|2008|\n",
    "\n",
    "This is the opening track on the *Antidotes* album; \n",
    "begins with the tuning of *French* horns,\n",
    "and is based on the tennis player *Andy Roddick*, who had the fastest serve in the world but (at the time) had't won anything (Tennis:French Open).  Yes, its too clever, by two...but that's *Foals*.\n",
    "\n",
    "Also, this is one of those annoying songs that incudes some *French* (not much, but given the song consists of only twelve distinct words, its hard to ignore).  Anyway, the phrase is `\"Un peu d'air sur la terre\"` and can be loosely translated to mean `\"a puff of dust\"` in reference to the effect of a tennis ball striking the ground of a clay court.\n",
    "\n",
    "This songs starts up with a deceptively simple structure but is entirely infectious with a nice touch of dissonance.\n",
    "\n",
    "*Foals* is a band I've very much enjoyed seeing live over the past decade so when I realized they weren't on the playlist...well, it just didn't seem right.  In terms of any potential deeper meaning, this could be seen as a self-critique."
   ]
  },
  {
   "attachments": {},
   "cell_type": "markdown",
   "metadata": {},
   "source": [
    "|Track|Song|Artist|Album|Year|\n",
    "|-|-|-|-|-|\n",
    "|2|Intro/Sweet Jane|Lou Reed|Rock 'n' Roll Animal (Live)|1973|\n",
    "\n",
    "The legendary *Lou Reed* delivering a historic rendition of the classic he wrote with *The Velvet Underground* with a band that would later form the core of *Alice Cooper's Welcome to My Nightmare* production.\n",
    "\n",
    "The applause at 3:29 is Lou taking the stage.\n",
    "\n",
    "If I were to select the playlist subtitle from this track, it'd be: `\"Anyone who ever played a part\"`."
   ]
  },
  {
   "attachments": {},
   "cell_type": "markdown",
   "metadata": {},
   "source": [
    "|Track|Song|Artist|Album|Year|\n",
    "|-|-|-|-|-|\n",
    "|3|Wait|M83|Hurry Up, We're Dreaming|2011|\n",
    "\n",
    "M83 (named after the galaxy) is one of my all time favorite bands and one that I'm privileged to be able to see perform live this October."
   ]
  },
  {
   "attachments": {},
   "cell_type": "markdown",
   "metadata": {},
   "source": [
    "|Track|Song|Artist|Album|Year|\n",
    "|-|-|-|-|-|\n",
    "|4|Cave|Muse|Showbiz|1999|\n",
    "\n",
    "TBD"
   ]
  },
  {
   "attachments": {},
   "cell_type": "markdown",
   "metadata": {},
   "source": [
    "|Track|Song|Artist|Album|Year|\n",
    "|-|-|-|-|-|\n",
    "|5|Twighlight Galaxy|Metric|Fantasies|2009|\n",
    "\n",
    "TBD"
   ]
  },
  {
   "attachments": {},
   "cell_type": "markdown",
   "metadata": {},
   "source": [
    "|Track|Song|Artist|Album|Year|\n",
    "|-|-|-|-|-|\n",
    "|6|Showbiz - Live from the Zenith|Muse|Hullabaloo Soundtrack|2002|\n",
    "\n",
    "TBD"
   ]
  },
  {
   "attachments": {},
   "cell_type": "markdown",
   "metadata": {},
   "source": [
    "|Track|Song|Artist|Album|Year|\n",
    "|-|-|-|-|-|\n",
    "|7|Life on Mars?|David Bowie|Hunky Dory|1973|\n",
    "\n",
    "TBD"
   ]
  },
  {
   "attachments": {},
   "cell_type": "markdown",
   "metadata": {},
   "source": [
    "|Track|Song|Artist|Album|Year|\n",
    "|-|-|-|-|-|\n",
    "|8|Gone|M83|Dead Cities, Red Seas and Lost Ghosts|2003|\n",
    "\n",
    "TBD"
   ]
  },
  {
   "attachments": {},
   "cell_type": "markdown",
   "metadata": {},
   "source": [
    "|Track|Song|Artist|Album|Year|\n",
    "|-|-|-|-|-|\n",
    "|9|Voodoo Chile (Slight Return)|Jimi Hendrix|Freedom: Antlanta Pop Festival (Live)|1970|\n",
    "\n",
    "TBD"
   ]
  },
  {
   "attachments": {},
   "cell_type": "markdown",
   "metadata": {},
   "source": [
    "|Track|Song|Artist|Album|Year|\n",
    "|-|-|-|-|-|\n",
    "|9|Stone Free|Jimi Hendrix|Freedom: Antlanta Pop Festival (Live)|1970|\n",
    "\n",
    "TBD"
   ]
  }
 ],
 "metadata": {
  "anaconda-cloud": {},
  "kernelspec": {
   "display_name": "Python 3",
   "language": "python",
   "name": "python3"
  },
  "language_info": {
   "codemirror_mode": {
    "name": "ipython",
    "version": 3
   },
   "file_extension": ".py",
   "mimetype": "text/x-python",
   "name": "python",
   "nbconvert_exporter": "python",
   "pygments_lexer": "ipython3",
   "version": "3.5.1"
  }
 },
 "nbformat": 4,
 "nbformat_minor": 0
}
